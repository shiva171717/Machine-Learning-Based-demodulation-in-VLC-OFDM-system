{
  "cells": [
    {
      "cell_type": "code",
      "execution_count": 9,
      "metadata": {
        "id": "xBhtFcUqmlJP"
      },
      "outputs": [],
      "source": [
        "import pandas as pd\n",
        "import numpy as np\n",
        "\n",
        "# Load the input (recvd_serial_data) and output (data_source) CSV files\n",
        "recvd_serial_data= pd.read_csv('6recvd_serial_data44.csv', header=None)\n",
        "data_source = pd.read_csv('6data_source44.csv', header=None)\n",
        "\n",
        "\n",
        "\n",
        "recvd_serial_data[0] = recvd_serial_data[0].str.strip()\n",
        "recvd_serial_data[0] = recvd_serial_data[0].str.replace(' ', '')\n",
        "recvd_serial_data[0] = recvd_serial_data[0].str.replace('i', 'j')\n",
        "\n",
        "def to_complex(x):\n",
        "    try:\n",
        "        return complex(x)\n",
        "    except ValueError:\n",
        "        return np.nan\n",
        "\n",
        "\n",
        "complex_numbers = recvd_serial_data[0].apply(to_complex)\n",
        "\n",
        "# Convert recvd_serial_data into real and imaginary parts as separate features\n",
        "X = pd.DataFrame({\n",
        "    'real': complex_numbers.apply(np.real),\n",
        "    'imag': complex_numbers.apply(np.imag)\n",
        "})\n",
        "\n",
        "\n",
        "# Convert the data_source into 4-bit binary outputs\n",
        "y = pd.DataFrame(data_source[0].apply(lambda x: list(map(int, np.binary_repr(x, width=4)))).to_list())\n",
        "\n",
        "# Save the processed input and output data as CSV\n",
        "X.to_csv('input_data.csv', index=False)\n",
        "y.to_csv('output_data.csv', index=False)"
      ]
    },
    {
      "cell_type": "code",
      "execution_count": 6,
      "metadata": {
        "colab": {
          "base_uri": "https://localhost:8080/"
        },
        "id": "3E2L7HuAm7p4",
        "outputId": "c02c34e6-3722-4196-9f33-b2363f48c60d"
      },
      "outputs": [
        {
          "output_type": "execute_result",
          "data": {
            "text/plain": [
              "(10000, 4)"
            ]
          },
          "metadata": {},
          "execution_count": 6
        }
      ],
      "source": [
        "y.shape"
      ]
    },
    {
      "cell_type": "code",
      "execution_count": 10,
      "metadata": {
        "colab": {
          "base_uri": "https://localhost:8080/"
        },
        "id": "IKZg7ZImm_sd",
        "outputId": "74349151-1945-4cb1-d197-ded9aee999c9"
      },
      "outputs": [
        {
          "output_type": "stream",
          "name": "stdout",
          "text": [
            "Test Accuracy: 99.35%\n"
          ]
        },
        {
          "output_type": "execute_result",
          "data": {
            "text/plain": [
              "['qam_to_4bit_mlp_model3.pkl']"
            ]
          },
          "metadata": {},
          "execution_count": 10
        }
      ],
      "source": [
        "from sklearn.preprocessing import StandardScaler, MinMaxScaler\n",
        "from sklearn.neural_network import MLPClassifier\n",
        "from sklearn.metrics import accuracy_score\n",
        "from sklearn.model_selection import train_test_split\n",
        "import pandas as pd\n",
        "import joblib\n",
        "\n",
        "X = pd.read_csv('input_data.csv')\n",
        "y = pd.read_csv('output_data.csv')\n",
        "\n",
        "\n",
        "# Normalize the input data (real and imaginary parts of QAM symbols)\n",
        "scaler = MinMaxScaler(feature_range=(-1, 1) )\n",
        "X_scaled = scaler.fit_transform(X)\n",
        "\n",
        "# Split the data into training and testing sets (80% for training)\n",
        "X_train, X_test, y_train, y_test = train_test_split(X_scaled, y, test_size=0.2, random_state=42)\n",
        "\n",
        "# Define the MLP model\n",
        "model = MLPClassifier(hidden_layer_sizes=(64,16), max_iter=500, activation='relu', solver='adam', random_state=42)\n",
        "\n",
        "# Train the model\n",
        "model.fit(X_train, y_train)\n",
        "\n",
        "# Test the model\n",
        "y_pred = model.predict(X_test)\n",
        "\n",
        "# Calculate accuracy\n",
        "accuracy = accuracy_score(y_test, y_pred)\n",
        "print(f'Test Accuracy: {accuracy * 100:.2f}%')\n",
        "\n",
        "# Save the model\n",
        "joblib.dump(model, 'qam_to_4bit_mlp_model3.pkl')\n",
        "\n"
      ]
    },
    {
      "cell_type": "code",
      "execution_count": null,
      "metadata": {
        "colab": {
          "base_uri": "https://localhost:8080/"
        },
        "id": "StuWFElrnfk2",
        "outputId": "dc44b706-d4c1-429b-a729-dd6a8cbdb95c"
      },
      "outputs": [
        {
          "output_type": "stream",
          "name": "stdout",
          "text": [
            "[[1 0 1 1]]\n"
          ]
        },
        {
          "output_type": "stream",
          "name": "stderr",
          "text": [
            "/usr/local/lib/python3.10/dist-packages/sklearn/base.py:486: UserWarning: X has feature names, but MLPClassifier was fitted without feature names\n",
            "  warnings.warn(\n"
          ]
        }
      ],
      "source": [
        "test_input = pd.DataFrame([[2.5, -0.89]], columns=['real', 'imag']) # Create a DataFrame matching the format of X\n",
        "print(model.predict(test_input))"
      ]
    },
    {
      "cell_type": "code",
      "execution_count": 11,
      "metadata": {
        "id": "tqOpFGI1oDqo"
      },
      "outputs": [],
      "source": [
        "import joblib\n",
        "import pandas as pd\n",
        "import numpy as np\n",
        "from sklearn.preprocessing import MinMaxScaler\n",
        "\n",
        "model = joblib.load('qam_to_4bit_mlp_model3.pkl')\n",
        "\n",
        "new_input_data = pd.read_csv('allBW_allSNR.csv', header=None)\n",
        "\n",
        "new_input_data[0] = new_input_data[0].str.strip()\n",
        "new_input_data[0] = new_input_data[0].str.replace(' ', '')\n",
        "new_input_data[0] = new_input_data[0].str.replace('i', 'j')\n",
        "\n",
        "def to_complex(x):\n",
        "    try:\n",
        "        return complex(x)\n",
        "    except ValueError:\n",
        "        return np.nan\n",
        "\n",
        "complex_numbers = new_input_data[0].apply(to_complex)\n",
        "\n",
        "scaler = MinMaxScaler(feature_range=(-1, 1))\n",
        "predicted_bits_all = []\n",
        "\n",
        "batch_size = 10000\n",
        "num_batches = len(complex_numbers) // batch_size\n",
        "\n",
        "for i in range(num_batches):\n",
        "    batch = complex_numbers[i * batch_size: (i + 1) * batch_size]\n",
        "\n",
        "    X = pd.DataFrame({\n",
        "        'real': batch.apply(np.real),\n",
        "        'imag': batch.apply(np.imag)\n",
        "    })\n",
        "\n",
        "    X_scaled = scaler.fit_transform(X)\n",
        "\n",
        "    predicted_bits = model.predict(X_scaled)\n",
        "\n",
        "    # Append the predicted bits to the result\n",
        "    predicted_bits_all.append(predicted_bits)\n",
        "\n",
        "# Combine all predicted bits into a single array (160000, 4)\n",
        "predicted_bits_all = np.vstack(predicted_bits_all)\n",
        "\n",
        "# Ensure the output shape is 160000 x 4\n",
        "assert predicted_bits_all.shape == (780000, 4)\n",
        "\n",
        "# Save the predicted bits to a CSV file\n",
        "pd.DataFrame(predicted_bits_all).to_csv('6_44_all_b.csv', index=False)\n",
        "\n"
      ]
    },
    {
      "cell_type": "code",
      "execution_count": null,
      "metadata": {
        "id": "poI2WwnMZ_5S"
      },
      "outputs": [],
      "source": []
    },
    {
      "cell_type": "code",
      "source": [],
      "metadata": {
        "id": "aY7NPbAJbFqa"
      },
      "execution_count": null,
      "outputs": []
    }
  ],
  "metadata": {
    "colab": {
      "provenance": []
    },
    "kernelspec": {
      "display_name": "Python 3",
      "name": "python3"
    },
    "language_info": {
      "name": "python"
    }
  },
  "nbformat": 4,
  "nbformat_minor": 0
}